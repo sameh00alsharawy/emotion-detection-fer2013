{
  "nbformat": 4,
  "nbformat_minor": 0,
  "metadata": {
    "colab": {
      "name": "emotion detecton cnn.ipynb",
      "provenance": [],
      "collapsed_sections": [],
      "authorship_tag": "ABX9TyOS8eAkY2PuRF1UCgO8LEsv",
      "include_colab_link": true
    },
    "kernelspec": {
      "name": "python3",
      "display_name": "Python 3"
    },
    "accelerator": "GPU"
  },
  "cells": [
    {
      "cell_type": "markdown",
      "metadata": {
        "id": "view-in-github",
        "colab_type": "text"
      },
      "source": [
        "<a href=\"https://colab.research.google.com/github/sameh00alsharawy/emotion-detection-fer2013/blob/main/emotion_detecton_cnn.ipynb\" target=\"_parent\"><img src=\"https://colab.research.google.com/assets/colab-badge.svg\" alt=\"Open In Colab\"/></a>"
      ]
    },
    {
      "cell_type": "code",
      "metadata": {
        "id": "yFjD9JQsPhpr"
      },
      "source": [
        "import numpy as np\n",
        "import pandas as pd\n",
        "import matplotlib.pyplot as plt \n",
        "\n",
        "import tensorflow as tf \n",
        "from tensorflow import keras\n",
        "\n",
        "from keras.layers import Dense,Dropout,Activation,Flatten,BatchNormalization\n",
        "from keras.layers import Conv2D,MaxPooling2D\n",
        "\n",
        "import os\n",
        "import zipfile\n",
        "\n",
        "from keras.utils import to_categorical\n"
      ],
      "execution_count": 1,
      "outputs": []
    },
    {
      "cell_type": "code",
      "metadata": {
        "id": "Ih_OWRA7QDo6"
      },
      "source": [
        " ! pip install -q kaggle"
      ],
      "execution_count": 2,
      "outputs": []
    },
    {
      "cell_type": "code",
      "metadata": {
        "colab": {
          "resources": {
            "http://localhost:8080/nbextensions/google.colab/files.js": {
              "data": "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",
              "ok": true,
              "headers": [
                [
                  "content-type",
                  "application/javascript"
                ]
              ],
              "status": 200,
              "status_text": ""
            }
          },
          "base_uri": "https://localhost:8080/",
          "height": 91
        },
        "id": "uDkWDRwmdTSh",
        "outputId": "757f2510-80fb-4135-8485-71760a1b4e8f"
      },
      "source": [
        " from google.colab import files\n",
        " files.upload()"
      ],
      "execution_count": 7,
      "outputs": [
        {
          "output_type": "display_data",
          "data": {
            "text/html": [
              "\n",
              "     <input type=\"file\" id=\"files-c9092a2c-1921-4038-8cb4-8e4fb6da5a76\" name=\"files[]\" multiple disabled\n",
              "        style=\"border:none\" />\n",
              "     <output id=\"result-c9092a2c-1921-4038-8cb4-8e4fb6da5a76\">\n",
              "      Upload widget is only available when the cell has been executed in the\n",
              "      current browser session. Please rerun this cell to enable.\n",
              "      </output>\n",
              "      <script src=\"/nbextensions/google.colab/files.js\"></script> "
            ],
            "text/plain": [
              "<IPython.core.display.HTML object>"
            ]
          },
          "metadata": {
            "tags": []
          }
        },
        {
          "output_type": "stream",
          "text": [
            "Saving kaggle.json to kaggle.json\n"
          ],
          "name": "stdout"
        },
        {
          "output_type": "execute_result",
          "data": {
            "text/plain": [
              "{'kaggle.json': b'{\"username\":\"samehalsharawy\",\"key\":\"998cf947154a5776bc5cbf887a38c2ab\"}'}"
            ]
          },
          "metadata": {
            "tags": []
          },
          "execution_count": 7
        }
      ]
    },
    {
      "cell_type": "code",
      "metadata": {
        "id": "rOqwewChaCHp",
        "colab": {
          "base_uri": "https://localhost:8080/"
        },
        "outputId": "90d06371-c2bc-47c6-919f-f80e5245d365"
      },
      "source": [
        " ! mkdir ~/.kaggle\n",
        " ! cp kaggle.json ~/.kaggle/\n",
        " ! chmod 600 ~/.kaggle/kaggle.json\n"
      ],
      "execution_count": 8,
      "outputs": [
        {
          "output_type": "stream",
          "text": [
            "mkdir: cannot create directory ‘/root/.kaggle’: File exists\n"
          ],
          "name": "stdout"
        }
      ]
    },
    {
      "cell_type": "code",
      "metadata": {
        "colab": {
          "base_uri": "https://localhost:8080/"
        },
        "id": "Tp-wsXfLbxkz",
        "outputId": "e14a3bbf-7f7a-44e9-cb88-0639e0410e3c"
      },
      "source": [
        "!kaggle competitions download -c challenges-in-representation-learning-facial-expression-recognition-challenge"
      ],
      "execution_count": 9,
      "outputs": [
        {
          "output_type": "stream",
          "text": [
            "Warning: Looks like you're using an outdated API Version, please consider updating (server 1.5.9 / client 1.5.4)\n",
            "Downloading example_submission.csv to /content\n",
            "  0% 0.00/7.01k [00:00<?, ?B/s]\n",
            "100% 7.01k/7.01k [00:00<00:00, 6.22MB/s]\n",
            "Downloading train.csv.zip to /content\n",
            " 63% 49.0M/77.3M [00:00<00:00, 63.1MB/s]\n",
            "100% 77.3M/77.3M [00:00<00:00, 143MB/s] \n",
            "Downloading fer2013.tar.gz to /content\n",
            " 96% 88.0M/92.0M [00:00<00:00, 106MB/s] \n",
            "100% 92.0M/92.0M [00:00<00:00, 172MB/s]\n",
            "Downloading icml_face_data.csv.zip to /content\n",
            " 96% 93.0M/96.6M [00:00<00:00, 67.6MB/s]\n",
            "100% 96.6M/96.6M [00:00<00:00, 110MB/s] \n",
            "Downloading test.csv.zip to /content\n",
            " 88% 17.0M/19.3M [00:01<00:00, 13.4MB/s]\n",
            "100% 19.3M/19.3M [00:01<00:00, 19.0MB/s]\n"
          ],
          "name": "stdout"
        }
      ]
    },
    {
      "cell_type": "code",
      "metadata": {
        "colab": {
          "base_uri": "https://localhost:8080/"
        },
        "id": "-xOFTCbbc8P9",
        "outputId": "ac46d01a-89e7-4879-f077-d84253b99e18"
      },
      "source": [
        "!pwd\n",
        "!ls"
      ],
      "execution_count": 10,
      "outputs": [
        {
          "output_type": "stream",
          "text": [
            "/content\n",
            "example_submission.csv\ticml_face_data.csv.zip\tsample_data   train.csv.zip\n",
            "fer2013.tar.gz\t\tkaggle.json\t\ttest.csv.zip\n"
          ],
          "name": "stdout"
        }
      ]
    },
    {
      "cell_type": "code",
      "metadata": {
        "id": "Tql6czqLcF-R"
      },
      "source": [
        "lz = 'icml_face_data.csv.zip'\n",
        "with zipfile.ZipFile(lz, 'r') as zip_ref:\n",
        "    zip_ref.extractall()\n"
      ],
      "execution_count": 11,
      "outputs": []
    },
    {
      "cell_type": "code",
      "metadata": {
        "id": "lr-jU1Hjc8Te",
        "colab": {
          "base_uri": "https://localhost:8080/",
          "height": 198
        },
        "outputId": "a359fced-c627-4276-e842-2720f34201ac"
      },
      "source": [
        "data = pd.read_csv('icml_face_data.csv')\n",
        "data.head()"
      ],
      "execution_count": 12,
      "outputs": [
        {
          "output_type": "execute_result",
          "data": {
            "text/html": [
              "<div>\n",
              "<style scoped>\n",
              "    .dataframe tbody tr th:only-of-type {\n",
              "        vertical-align: middle;\n",
              "    }\n",
              "\n",
              "    .dataframe tbody tr th {\n",
              "        vertical-align: top;\n",
              "    }\n",
              "\n",
              "    .dataframe thead th {\n",
              "        text-align: right;\n",
              "    }\n",
              "</style>\n",
              "<table border=\"1\" class=\"dataframe\">\n",
              "  <thead>\n",
              "    <tr style=\"text-align: right;\">\n",
              "      <th></th>\n",
              "      <th>emotion</th>\n",
              "      <th>Usage</th>\n",
              "      <th>pixels</th>\n",
              "    </tr>\n",
              "  </thead>\n",
              "  <tbody>\n",
              "    <tr>\n",
              "      <th>0</th>\n",
              "      <td>0</td>\n",
              "      <td>Training</td>\n",
              "      <td>70 80 82 72 58 58 60 63 54 58 60 48 89 115 121...</td>\n",
              "    </tr>\n",
              "    <tr>\n",
              "      <th>1</th>\n",
              "      <td>0</td>\n",
              "      <td>Training</td>\n",
              "      <td>151 150 147 155 148 133 111 140 170 174 182 15...</td>\n",
              "    </tr>\n",
              "    <tr>\n",
              "      <th>2</th>\n",
              "      <td>2</td>\n",
              "      <td>Training</td>\n",
              "      <td>231 212 156 164 174 138 161 173 182 200 106 38...</td>\n",
              "    </tr>\n",
              "    <tr>\n",
              "      <th>3</th>\n",
              "      <td>4</td>\n",
              "      <td>Training</td>\n",
              "      <td>24 32 36 30 32 23 19 20 30 41 21 22 32 34 21 1...</td>\n",
              "    </tr>\n",
              "    <tr>\n",
              "      <th>4</th>\n",
              "      <td>6</td>\n",
              "      <td>Training</td>\n",
              "      <td>4 0 0 0 0 0 0 0 0 0 0 0 3 15 23 28 48 50 58 84...</td>\n",
              "    </tr>\n",
              "  </tbody>\n",
              "</table>\n",
              "</div>"
            ],
            "text/plain": [
              "   emotion     Usage                                             pixels\n",
              "0        0  Training  70 80 82 72 58 58 60 63 54 58 60 48 89 115 121...\n",
              "1        0  Training  151 150 147 155 148 133 111 140 170 174 182 15...\n",
              "2        2  Training  231 212 156 164 174 138 161 173 182 200 106 38...\n",
              "3        4  Training  24 32 36 30 32 23 19 20 30 41 21 22 32 34 21 1...\n",
              "4        6  Training  4 0 0 0 0 0 0 0 0 0 0 0 3 15 23 28 48 50 58 84..."
            ]
          },
          "metadata": {
            "tags": []
          },
          "execution_count": 12
        }
      ]
    },
    {
      "cell_type": "code",
      "metadata": {
        "id": "Zy13jVztyx25"
      },
      "source": [
        "data.columns = ['emotion', 'usage', 'pixels']"
      ],
      "execution_count": 13,
      "outputs": []
    },
    {
      "cell_type": "code",
      "metadata": {
        "id": "SAaZhZa0tMj0",
        "colab": {
          "base_uri": "https://localhost:8080/"
        },
        "outputId": "bd9a8f97-d178-44d0-da3f-b71b7661439b"
      },
      "source": [
        "data['usage'].value_counts()"
      ],
      "execution_count": 14,
      "outputs": [
        {
          "output_type": "execute_result",
          "data": {
            "text/plain": [
              "Training       28709\n",
              "PublicTest      3589\n",
              "PrivateTest     3589\n",
              "Name: usage, dtype: int64"
            ]
          },
          "metadata": {
            "tags": []
          },
          "execution_count": 14
        }
      ]
    },
    {
      "cell_type": "code",
      "metadata": {
        "colab": {
          "base_uri": "https://localhost:8080/"
        },
        "id": "-JTUFvIrJMgv",
        "outputId": "2265360d-5bfc-4056-d106-d26369c89ad0"
      },
      "source": [
        "data.emotion.value_counts()"
      ],
      "execution_count": 15,
      "outputs": [
        {
          "output_type": "execute_result",
          "data": {
            "text/plain": [
              "3    8989\n",
              "6    6198\n",
              "4    6077\n",
              "2    5121\n",
              "0    4953\n",
              "5    4002\n",
              "1     547\n",
              "Name: emotion, dtype: int64"
            ]
          },
          "metadata": {
            "tags": []
          },
          "execution_count": 15
        }
      ]
    },
    {
      "cell_type": "code",
      "metadata": {
        "id": "uRT9yla5tSil"
      },
      "source": [
        "def prepare_data (df):\n",
        "  n = df.shape[0]\n",
        "  x = np.zeros((n, 48, 48))\n",
        "  y = df.emotion.values\n",
        "  for i in range(n):\n",
        "    x[i,:,:]=np.array([float (x) for x in  df.pixels.values[i].split(' ')]).reshape(48,48)\n",
        "  return x,y "
      ],
      "execution_count": 16,
      "outputs": []
    },
    {
      "cell_type": "code",
      "metadata": {
        "id": "haFrFizVtSlx"
      },
      "source": [
        "x_train, y_train = prepare_data(data[data.usage == \"Training\"])\n",
        "x_val,   y_val   = prepare_data(data[data.usage == \"PrivateTest\"])\n",
        "x_test,  y_test  = prepare_data(data[data.usage == \"PublicTest\"])"
      ],
      "execution_count": 17,
      "outputs": []
    },
    {
      "cell_type": "code",
      "metadata": {
        "id": "qIpbjV0uc8iA"
      },
      "source": [
        "train_labels = to_categorical(y_train)\n",
        "val_labels   = to_categorical(y_val)\n",
        "test_labels  = to_categorical(y_test)\n",
        "x_test = x_test/255.0\n",
        "x_train= x_train/255.0\n",
        "x_val  = x_val/255.0"
      ],
      "execution_count": 18,
      "outputs": []
    },
    {
      "cell_type": "code",
      "metadata": {
        "id": "4k4_O5VXBNBK"
      },
      "source": [
        "x_test  = x_test.reshape((x_test.shape[0], 48, 48, 1))\n",
        "x_val   = x_val.reshape((x_val.shape[0], 48, 48, 1))\n",
        "x_train = x_train.reshape((x_train.shape[0], 48, 48, 1))"
      ],
      "execution_count": 19,
      "outputs": []
    },
    {
      "cell_type": "code",
      "metadata": {
        "id": "VUICQSjxc8bX"
      },
      "source": [
        "emotions = {0: 'Angry', 1: 'Disgust', 2: 'Fear', 3: 'Happy', 4: 'Sad', 5: 'Surprise', 6: 'Neutral'}"
      ],
      "execution_count": 20,
      "outputs": []
    },
    {
      "cell_type": "code",
      "metadata": {
        "id": "irzdldapRc9n",
        "colab": {
          "base_uri": "https://localhost:8080/"
        },
        "outputId": "00016d12-f8d3-4eb9-df27-a66213c88949"
      },
      "source": [
        "model2 = keras.Sequential()\n",
        "\n",
        "model2.add(Conv2D(64, 3, padding='same', input_shape =(48,48,1) ))\n",
        "model2.add(BatchNormalization())\n",
        "model2.add(Activation('relu'))\n",
        "model2.add(MaxPooling2D())\n",
        "model2.add(Dropout(0.1))\n",
        "\n",
        "model2.add(Conv2D(64, 3, padding='same', input_shape =(48,48,1) ))\n",
        "model2.add(BatchNormalization())\n",
        "model2.add(Activation('relu'))\n",
        "model2.add(MaxPooling2D())\n",
        "model2.add(Dropout(0.1))\n",
        "\n",
        "model2.add(Conv2D(128, 3, padding='same', input_shape =(48,48,1) ))\n",
        "model2.add(BatchNormalization())\n",
        "model2.add(Activation('relu'))\n",
        "model2.add(MaxPooling2D())\n",
        "model2.add(Dropout(0.1))\n",
        "\n",
        "model2.add(Conv2D(128, 3, padding='same', input_shape =(48,48,1) ))\n",
        "model2.add(BatchNormalization())\n",
        "model2.add(Activation('relu'))\n",
        "model2.add(MaxPooling2D())\n",
        "model2.add(Dropout(0.1))\n",
        "\n",
        "model2.add(Flatten())\n",
        "model2.add(Dense(512))\n",
        "model2.add(BatchNormalization())\n",
        "model2.add(Activation('relu'))\n",
        "model2.add(Dropout(0.3))\n",
        "\n",
        "model2.add(Dense(7, activation='softmax'))\n",
        "\n",
        "model2.compile(loss = keras.losses.categorical_crossentropy,\n",
        "               optimizer = 'adam',\n",
        "               metrics = ['accuracy'])\n",
        "model2.summary()"
      ],
      "execution_count": 22,
      "outputs": [
        {
          "output_type": "stream",
          "text": [
            "Model: \"sequential_1\"\n",
            "_________________________________________________________________\n",
            "Layer (type)                 Output Shape              Param #   \n",
            "=================================================================\n",
            "conv2d_4 (Conv2D)            (None, 48, 48, 64)        640       \n",
            "_________________________________________________________________\n",
            "batch_normalization_5 (Batch (None, 48, 48, 64)        256       \n",
            "_________________________________________________________________\n",
            "activation_5 (Activation)    (None, 48, 48, 64)        0         \n",
            "_________________________________________________________________\n",
            "max_pooling2d_4 (MaxPooling2 (None, 24, 24, 64)        0         \n",
            "_________________________________________________________________\n",
            "dropout_5 (Dropout)          (None, 24, 24, 64)        0         \n",
            "_________________________________________________________________\n",
            "conv2d_5 (Conv2D)            (None, 24, 24, 64)        36928     \n",
            "_________________________________________________________________\n",
            "batch_normalization_6 (Batch (None, 24, 24, 64)        256       \n",
            "_________________________________________________________________\n",
            "activation_6 (Activation)    (None, 24, 24, 64)        0         \n",
            "_________________________________________________________________\n",
            "max_pooling2d_5 (MaxPooling2 (None, 12, 12, 64)        0         \n",
            "_________________________________________________________________\n",
            "dropout_6 (Dropout)          (None, 12, 12, 64)        0         \n",
            "_________________________________________________________________\n",
            "conv2d_6 (Conv2D)            (None, 12, 12, 128)       73856     \n",
            "_________________________________________________________________\n",
            "batch_normalization_7 (Batch (None, 12, 12, 128)       512       \n",
            "_________________________________________________________________\n",
            "activation_7 (Activation)    (None, 12, 12, 128)       0         \n",
            "_________________________________________________________________\n",
            "max_pooling2d_6 (MaxPooling2 (None, 6, 6, 128)         0         \n",
            "_________________________________________________________________\n",
            "dropout_7 (Dropout)          (None, 6, 6, 128)         0         \n",
            "_________________________________________________________________\n",
            "conv2d_7 (Conv2D)            (None, 6, 6, 128)         147584    \n",
            "_________________________________________________________________\n",
            "batch_normalization_8 (Batch (None, 6, 6, 128)         512       \n",
            "_________________________________________________________________\n",
            "activation_8 (Activation)    (None, 6, 6, 128)         0         \n",
            "_________________________________________________________________\n",
            "max_pooling2d_7 (MaxPooling2 (None, 3, 3, 128)         0         \n",
            "_________________________________________________________________\n",
            "dropout_8 (Dropout)          (None, 3, 3, 128)         0         \n",
            "_________________________________________________________________\n",
            "flatten_1 (Flatten)          (None, 1152)              0         \n",
            "_________________________________________________________________\n",
            "dense_2 (Dense)              (None, 512)               590336    \n",
            "_________________________________________________________________\n",
            "batch_normalization_9 (Batch (None, 512)               2048      \n",
            "_________________________________________________________________\n",
            "activation_9 (Activation)    (None, 512)               0         \n",
            "_________________________________________________________________\n",
            "dropout_9 (Dropout)          (None, 512)               0         \n",
            "_________________________________________________________________\n",
            "dense_3 (Dense)              (None, 7)                 3591      \n",
            "=================================================================\n",
            "Total params: 856,519\n",
            "Trainable params: 854,727\n",
            "Non-trainable params: 1,792\n",
            "_________________________________________________________________\n"
          ],
          "name": "stdout"
        }
      ]
    },
    {
      "cell_type": "code",
      "metadata": {
        "colab": {
          "base_uri": "https://localhost:8080/"
        },
        "id": "sqzQa5a_QQlY",
        "outputId": "3dfb43e1-fc0a-4afb-9efb-3f7ce111e9c2"
      },
      "source": [
        "rlrop = keras.callbacks.ReduceLROnPlateau(monitor='val_accuracy',mode='max',factor=0.5, patience=7, min_lr=0.00005, verbose=1)\n",
        "\n",
        "history2 = model2.fit( \n",
        "    x= x_train,\n",
        "    y= train_labels,\n",
        "    batch_size=265,\n",
        "    epochs=100,\n",
        "    validation_data = (x_val, val_labels),\n",
        "    callbacks=[rlrop]\n",
        ")\n"
      ],
      "execution_count": 23,
      "outputs": [
        {
          "output_type": "stream",
          "text": [
            "Epoch 1/100\n",
            "109/109 [==============================] - 5s 47ms/step - loss: 1.7658 - accuracy: 0.3401 - val_loss: 2.1834 - val_accuracy: 0.2449\n",
            "Epoch 2/100\n",
            "109/109 [==============================] - 5s 43ms/step - loss: 1.4348 - accuracy: 0.4578 - val_loss: 2.1503 - val_accuracy: 0.2179\n",
            "Epoch 3/100\n",
            "109/109 [==============================] - 5s 43ms/step - loss: 1.2964 - accuracy: 0.5096 - val_loss: 1.7319 - val_accuracy: 0.3466\n",
            "Epoch 4/100\n",
            "109/109 [==============================] - 5s 43ms/step - loss: 1.1912 - accuracy: 0.5492 - val_loss: 1.4422 - val_accuracy: 0.4280\n",
            "Epoch 5/100\n",
            "109/109 [==============================] - 5s 44ms/step - loss: 1.1301 - accuracy: 0.5721 - val_loss: 1.2097 - val_accuracy: 0.5352\n",
            "Epoch 6/100\n",
            "109/109 [==============================] - 5s 43ms/step - loss: 1.0677 - accuracy: 0.5993 - val_loss: 1.1983 - val_accuracy: 0.5453\n",
            "Epoch 7/100\n",
            "109/109 [==============================] - 5s 44ms/step - loss: 1.0224 - accuracy: 0.6138 - val_loss: 1.3271 - val_accuracy: 0.5230\n",
            "Epoch 8/100\n",
            "109/109 [==============================] - 5s 44ms/step - loss: 0.9751 - accuracy: 0.6326 - val_loss: 1.1216 - val_accuracy: 0.5770\n",
            "Epoch 9/100\n",
            "109/109 [==============================] - 5s 44ms/step - loss: 0.9394 - accuracy: 0.6477 - val_loss: 1.2092 - val_accuracy: 0.5556\n",
            "Epoch 10/100\n",
            "109/109 [==============================] - 5s 44ms/step - loss: 0.8975 - accuracy: 0.6635 - val_loss: 1.2118 - val_accuracy: 0.5514\n",
            "Epoch 11/100\n",
            "109/109 [==============================] - 5s 44ms/step - loss: 0.8537 - accuracy: 0.6809 - val_loss: 1.1411 - val_accuracy: 0.5773\n",
            "Epoch 12/100\n",
            "109/109 [==============================] - 5s 44ms/step - loss: 0.8104 - accuracy: 0.6966 - val_loss: 1.1322 - val_accuracy: 0.5843\n",
            "Epoch 13/100\n",
            "109/109 [==============================] - 5s 44ms/step - loss: 0.7753 - accuracy: 0.7112 - val_loss: 1.2329 - val_accuracy: 0.5667\n",
            "Epoch 14/100\n",
            "109/109 [==============================] - 5s 44ms/step - loss: 0.7392 - accuracy: 0.7252 - val_loss: 1.1399 - val_accuracy: 0.5974\n",
            "Epoch 15/100\n",
            "109/109 [==============================] - 5s 44ms/step - loss: 0.7059 - accuracy: 0.7355 - val_loss: 1.0781 - val_accuracy: 0.6082\n",
            "Epoch 16/100\n",
            "109/109 [==============================] - 5s 44ms/step - loss: 0.6608 - accuracy: 0.7561 - val_loss: 1.1499 - val_accuracy: 0.6057\n",
            "Epoch 17/100\n",
            "109/109 [==============================] - 5s 44ms/step - loss: 0.6256 - accuracy: 0.7709 - val_loss: 1.1459 - val_accuracy: 0.6241\n",
            "Epoch 18/100\n",
            "109/109 [==============================] - 5s 44ms/step - loss: 0.6000 - accuracy: 0.7780 - val_loss: 1.2173 - val_accuracy: 0.6046\n",
            "Epoch 19/100\n",
            "109/109 [==============================] - 5s 44ms/step - loss: 0.5655 - accuracy: 0.7903 - val_loss: 1.1432 - val_accuracy: 0.6177\n",
            "Epoch 20/100\n",
            "109/109 [==============================] - 5s 44ms/step - loss: 0.5375 - accuracy: 0.8008 - val_loss: 1.5908 - val_accuracy: 0.5430\n",
            "Epoch 21/100\n",
            "109/109 [==============================] - 5s 44ms/step - loss: 0.5080 - accuracy: 0.8117 - val_loss: 1.2034 - val_accuracy: 0.6163\n",
            "Epoch 22/100\n",
            "109/109 [==============================] - 5s 44ms/step - loss: 0.4805 - accuracy: 0.8235 - val_loss: 1.2716 - val_accuracy: 0.5809\n",
            "Epoch 23/100\n",
            "109/109 [==============================] - 5s 44ms/step - loss: 0.4613 - accuracy: 0.8306 - val_loss: 1.3098 - val_accuracy: 0.5857\n",
            "Epoch 24/100\n",
            "109/109 [==============================] - 5s 44ms/step - loss: 0.4268 - accuracy: 0.8460 - val_loss: 1.2400 - val_accuracy: 0.6261\n",
            "Epoch 25/100\n",
            "109/109 [==============================] - 5s 44ms/step - loss: 0.4112 - accuracy: 0.8495 - val_loss: 1.4880 - val_accuracy: 0.5495\n",
            "Epoch 26/100\n",
            "109/109 [==============================] - 5s 44ms/step - loss: 0.3895 - accuracy: 0.8580 - val_loss: 1.3201 - val_accuracy: 0.6102\n",
            "Epoch 27/100\n",
            "109/109 [==============================] - 5s 44ms/step - loss: 0.3774 - accuracy: 0.8624 - val_loss: 1.4196 - val_accuracy: 0.5915\n",
            "Epoch 28/100\n",
            "109/109 [==============================] - 5s 44ms/step - loss: 0.3506 - accuracy: 0.8728 - val_loss: 1.2899 - val_accuracy: 0.6188\n",
            "Epoch 29/100\n",
            "109/109 [==============================] - 5s 44ms/step - loss: 0.3327 - accuracy: 0.8777 - val_loss: 1.4397 - val_accuracy: 0.6119\n",
            "Epoch 30/100\n",
            "109/109 [==============================] - 5s 44ms/step - loss: 0.3210 - accuracy: 0.8823 - val_loss: 1.4026 - val_accuracy: 0.6247\n",
            "Epoch 31/100\n",
            "109/109 [==============================] - ETA: 0s - loss: 0.3086 - accuracy: 0.8890\n",
            "Epoch 00031: ReduceLROnPlateau reducing learning rate to 0.0005000000237487257.\n",
            "109/109 [==============================] - 5s 44ms/step - loss: 0.3086 - accuracy: 0.8890 - val_loss: 1.4509 - val_accuracy: 0.6096\n",
            "Epoch 32/100\n",
            "109/109 [==============================] - 5s 44ms/step - loss: 0.2542 - accuracy: 0.9094 - val_loss: 1.3139 - val_accuracy: 0.6439\n",
            "Epoch 33/100\n",
            "109/109 [==============================] - 5s 44ms/step - loss: 0.2264 - accuracy: 0.9209 - val_loss: 1.3390 - val_accuracy: 0.6400\n",
            "Epoch 34/100\n",
            "109/109 [==============================] - 5s 44ms/step - loss: 0.2154 - accuracy: 0.9248 - val_loss: 1.3695 - val_accuracy: 0.6450\n",
            "Epoch 35/100\n",
            "109/109 [==============================] - 5s 44ms/step - loss: 0.2041 - accuracy: 0.9285 - val_loss: 1.3999 - val_accuracy: 0.6353\n",
            "Epoch 36/100\n",
            "109/109 [==============================] - 5s 44ms/step - loss: 0.1993 - accuracy: 0.9305 - val_loss: 1.3796 - val_accuracy: 0.6414\n",
            "Epoch 37/100\n",
            "109/109 [==============================] - 5s 44ms/step - loss: 0.1893 - accuracy: 0.9336 - val_loss: 1.4061 - val_accuracy: 0.6417\n",
            "Epoch 38/100\n",
            "109/109 [==============================] - 5s 44ms/step - loss: 0.1860 - accuracy: 0.9351 - val_loss: 1.4588 - val_accuracy: 0.6383\n",
            "Epoch 39/100\n",
            "109/109 [==============================] - 5s 44ms/step - loss: 0.1792 - accuracy: 0.9364 - val_loss: 1.4172 - val_accuracy: 0.6369\n",
            "Epoch 40/100\n",
            "109/109 [==============================] - 5s 43ms/step - loss: 0.1796 - accuracy: 0.9378 - val_loss: 1.4932 - val_accuracy: 0.6403\n",
            "Epoch 41/100\n",
            "109/109 [==============================] - ETA: 0s - loss: 0.1753 - accuracy: 0.9398\n",
            "Epoch 00041: ReduceLROnPlateau reducing learning rate to 0.0002500000118743628.\n",
            "109/109 [==============================] - 5s 44ms/step - loss: 0.1753 - accuracy: 0.9398 - val_loss: 1.6339 - val_accuracy: 0.6227\n",
            "Epoch 42/100\n",
            "109/109 [==============================] - 5s 44ms/step - loss: 0.1581 - accuracy: 0.9466 - val_loss: 1.4818 - val_accuracy: 0.6425\n",
            "Epoch 43/100\n",
            "109/109 [==============================] - 5s 44ms/step - loss: 0.1470 - accuracy: 0.9487 - val_loss: 1.4539 - val_accuracy: 0.6447\n",
            "Epoch 44/100\n",
            "109/109 [==============================] - 5s 44ms/step - loss: 0.1429 - accuracy: 0.9506 - val_loss: 1.4966 - val_accuracy: 0.6400\n",
            "Epoch 45/100\n",
            "109/109 [==============================] - 5s 44ms/step - loss: 0.1378 - accuracy: 0.9521 - val_loss: 1.5031 - val_accuracy: 0.6447\n",
            "Epoch 46/100\n",
            "109/109 [==============================] - 5s 44ms/step - loss: 0.1364 - accuracy: 0.9540 - val_loss: 1.5143 - val_accuracy: 0.6464\n",
            "Epoch 47/100\n",
            "109/109 [==============================] - 5s 44ms/step - loss: 0.1326 - accuracy: 0.9551 - val_loss: 1.5421 - val_accuracy: 0.6456\n",
            "Epoch 48/100\n",
            "109/109 [==============================] - 5s 44ms/step - loss: 0.1294 - accuracy: 0.9570 - val_loss: 1.5269 - val_accuracy: 0.6397\n",
            "Epoch 49/100\n",
            "109/109 [==============================] - 5s 44ms/step - loss: 0.1311 - accuracy: 0.9558 - val_loss: 1.5530 - val_accuracy: 0.6436\n",
            "Epoch 50/100\n",
            "109/109 [==============================] - 5s 44ms/step - loss: 0.1260 - accuracy: 0.9571 - val_loss: 1.5502 - val_accuracy: 0.6442\n",
            "Epoch 51/100\n",
            "109/109 [==============================] - 5s 44ms/step - loss: 0.1257 - accuracy: 0.9575 - val_loss: 1.5777 - val_accuracy: 0.6411\n",
            "Epoch 52/100\n",
            "109/109 [==============================] - 5s 44ms/step - loss: 0.1228 - accuracy: 0.9571 - val_loss: 1.6041 - val_accuracy: 0.6381\n",
            "Epoch 53/100\n",
            "109/109 [==============================] - ETA: 0s - loss: 0.1211 - accuracy: 0.9596\n",
            "Epoch 00053: ReduceLROnPlateau reducing learning rate to 0.0001250000059371814.\n",
            "109/109 [==============================] - 5s 44ms/step - loss: 0.1211 - accuracy: 0.9596 - val_loss: 1.5890 - val_accuracy: 0.6434\n",
            "Epoch 54/100\n",
            "109/109 [==============================] - 5s 44ms/step - loss: 0.1159 - accuracy: 0.9607 - val_loss: 1.5721 - val_accuracy: 0.6439\n",
            "Epoch 55/100\n",
            "109/109 [==============================] - 5s 44ms/step - loss: 0.1112 - accuracy: 0.9620 - val_loss: 1.5599 - val_accuracy: 0.6456\n",
            "Epoch 56/100\n",
            "109/109 [==============================] - 5s 44ms/step - loss: 0.1110 - accuracy: 0.9621 - val_loss: 1.5847 - val_accuracy: 0.6464\n",
            "Epoch 57/100\n",
            "109/109 [==============================] - 5s 44ms/step - loss: 0.1094 - accuracy: 0.9634 - val_loss: 1.5808 - val_accuracy: 0.6447\n",
            "Epoch 58/100\n",
            "109/109 [==============================] - 5s 44ms/step - loss: 0.1072 - accuracy: 0.9643 - val_loss: 1.5917 - val_accuracy: 0.6450\n",
            "Epoch 59/100\n",
            "109/109 [==============================] - 5s 44ms/step - loss: 0.1019 - accuracy: 0.9668 - val_loss: 1.5948 - val_accuracy: 0.6420\n",
            "Epoch 60/100\n",
            "108/109 [============================>.] - ETA: 0s - loss: 0.0992 - accuracy: 0.9663\n",
            "Epoch 00060: ReduceLROnPlateau reducing learning rate to 6.25000029685907e-05.\n",
            "109/109 [==============================] - 5s 44ms/step - loss: 0.0993 - accuracy: 0.9663 - val_loss: 1.5917 - val_accuracy: 0.6442\n",
            "Epoch 61/100\n",
            "109/109 [==============================] - 5s 44ms/step - loss: 0.0995 - accuracy: 0.9682 - val_loss: 1.5910 - val_accuracy: 0.6436\n",
            "Epoch 62/100\n",
            "109/109 [==============================] - 5s 44ms/step - loss: 0.0957 - accuracy: 0.9681 - val_loss: 1.6100 - val_accuracy: 0.6467\n",
            "Epoch 63/100\n",
            "109/109 [==============================] - 5s 44ms/step - loss: 0.0961 - accuracy: 0.9681 - val_loss: 1.6049 - val_accuracy: 0.6434\n",
            "Epoch 64/100\n",
            "109/109 [==============================] - 5s 44ms/step - loss: 0.0964 - accuracy: 0.9677 - val_loss: 1.5935 - val_accuracy: 0.6436\n",
            "Epoch 65/100\n",
            "109/109 [==============================] - 5s 44ms/step - loss: 0.0960 - accuracy: 0.9675 - val_loss: 1.6081 - val_accuracy: 0.6459\n",
            "Epoch 66/100\n",
            "109/109 [==============================] - 5s 44ms/step - loss: 0.0958 - accuracy: 0.9683 - val_loss: 1.6227 - val_accuracy: 0.6492\n",
            "Epoch 67/100\n",
            "109/109 [==============================] - 5s 44ms/step - loss: 0.0938 - accuracy: 0.9685 - val_loss: 1.6178 - val_accuracy: 0.6447\n",
            "Epoch 68/100\n",
            "109/109 [==============================] - 5s 44ms/step - loss: 0.0934 - accuracy: 0.9700 - val_loss: 1.6082 - val_accuracy: 0.6434\n",
            "Epoch 69/100\n",
            "109/109 [==============================] - 5s 44ms/step - loss: 0.0927 - accuracy: 0.9701 - val_loss: 1.6241 - val_accuracy: 0.6439\n",
            "Epoch 70/100\n",
            "109/109 [==============================] - 5s 44ms/step - loss: 0.0907 - accuracy: 0.9702 - val_loss: 1.6165 - val_accuracy: 0.6456\n",
            "Epoch 71/100\n",
            "109/109 [==============================] - 5s 44ms/step - loss: 0.0893 - accuracy: 0.9699 - val_loss: 1.6281 - val_accuracy: 0.6475\n",
            "Epoch 72/100\n",
            "109/109 [==============================] - 5s 43ms/step - loss: 0.0894 - accuracy: 0.9705 - val_loss: 1.6280 - val_accuracy: 0.6498\n",
            "Epoch 73/100\n",
            "109/109 [==============================] - 5s 43ms/step - loss: 0.0904 - accuracy: 0.9708 - val_loss: 1.6168 - val_accuracy: 0.6475\n",
            "Epoch 74/100\n",
            "109/109 [==============================] - 5s 44ms/step - loss: 0.0883 - accuracy: 0.9725 - val_loss: 1.6225 - val_accuracy: 0.6445\n",
            "Epoch 75/100\n",
            "109/109 [==============================] - 5s 44ms/step - loss: 0.0862 - accuracy: 0.9722 - val_loss: 1.6258 - val_accuracy: 0.6461\n",
            "Epoch 76/100\n",
            "109/109 [==============================] - 5s 44ms/step - loss: 0.0879 - accuracy: 0.9708 - val_loss: 1.6303 - val_accuracy: 0.6478\n",
            "Epoch 77/100\n",
            "109/109 [==============================] - 5s 44ms/step - loss: 0.0912 - accuracy: 0.9698 - val_loss: 1.6379 - val_accuracy: 0.6478\n",
            "Epoch 78/100\n",
            "109/109 [==============================] - 5s 44ms/step - loss: 0.0866 - accuracy: 0.9713 - val_loss: 1.6414 - val_accuracy: 0.6495\n",
            "Epoch 79/100\n",
            "109/109 [==============================] - ETA: 0s - loss: 0.0874 - accuracy: 0.9711\n",
            "Epoch 00079: ReduceLROnPlateau reducing learning rate to 5e-05.\n",
            "109/109 [==============================] - 5s 44ms/step - loss: 0.0874 - accuracy: 0.9711 - val_loss: 1.6488 - val_accuracy: 0.6478\n",
            "Epoch 80/100\n",
            "109/109 [==============================] - 5s 44ms/step - loss: 0.0870 - accuracy: 0.9704 - val_loss: 1.6477 - val_accuracy: 0.6442\n",
            "Epoch 81/100\n",
            "109/109 [==============================] - 5s 44ms/step - loss: 0.0876 - accuracy: 0.9709 - val_loss: 1.6465 - val_accuracy: 0.6445\n",
            "Epoch 82/100\n",
            "109/109 [==============================] - 5s 44ms/step - loss: 0.0886 - accuracy: 0.9699 - val_loss: 1.6556 - val_accuracy: 0.6475\n",
            "Epoch 83/100\n",
            "109/109 [==============================] - 5s 44ms/step - loss: 0.0875 - accuracy: 0.9700 - val_loss: 1.6590 - val_accuracy: 0.6445\n",
            "Epoch 84/100\n",
            "109/109 [==============================] - 5s 44ms/step - loss: 0.0843 - accuracy: 0.9727 - val_loss: 1.6523 - val_accuracy: 0.6442\n",
            "Epoch 85/100\n",
            "109/109 [==============================] - 5s 44ms/step - loss: 0.0859 - accuracy: 0.9720 - val_loss: 1.6601 - val_accuracy: 0.6500\n",
            "Epoch 86/100\n",
            "109/109 [==============================] - 5s 44ms/step - loss: 0.0868 - accuracy: 0.9716 - val_loss: 1.6585 - val_accuracy: 0.6464\n",
            "Epoch 87/100\n",
            "109/109 [==============================] - 5s 44ms/step - loss: 0.0811 - accuracy: 0.9729 - val_loss: 1.6535 - val_accuracy: 0.6447\n",
            "Epoch 88/100\n",
            "109/109 [==============================] - 5s 43ms/step - loss: 0.0826 - accuracy: 0.9725 - val_loss: 1.6698 - val_accuracy: 0.6445\n",
            "Epoch 89/100\n",
            "109/109 [==============================] - 5s 44ms/step - loss: 0.0835 - accuracy: 0.9727 - val_loss: 1.6573 - val_accuracy: 0.6417\n",
            "Epoch 90/100\n",
            "109/109 [==============================] - 5s 44ms/step - loss: 0.0815 - accuracy: 0.9723 - val_loss: 1.6624 - val_accuracy: 0.6439\n",
            "Epoch 91/100\n",
            "109/109 [==============================] - 5s 44ms/step - loss: 0.0835 - accuracy: 0.9727 - val_loss: 1.6696 - val_accuracy: 0.6456\n",
            "Epoch 92/100\n",
            "109/109 [==============================] - 5s 44ms/step - loss: 0.0826 - accuracy: 0.9722 - val_loss: 1.6791 - val_accuracy: 0.6434\n",
            "Epoch 93/100\n",
            "109/109 [==============================] - 5s 44ms/step - loss: 0.0822 - accuracy: 0.9725 - val_loss: 1.6759 - val_accuracy: 0.6447\n",
            "Epoch 94/100\n",
            "109/109 [==============================] - 5s 44ms/step - loss: 0.0813 - accuracy: 0.9730 - val_loss: 1.6777 - val_accuracy: 0.6439\n",
            "Epoch 95/100\n",
            "109/109 [==============================] - 5s 44ms/step - loss: 0.0774 - accuracy: 0.9744 - val_loss: 1.6824 - val_accuracy: 0.6506\n",
            "Epoch 96/100\n",
            "109/109 [==============================] - 5s 44ms/step - loss: 0.0847 - accuracy: 0.9716 - val_loss: 1.6789 - val_accuracy: 0.6442\n",
            "Epoch 97/100\n",
            "109/109 [==============================] - 5s 43ms/step - loss: 0.0790 - accuracy: 0.9742 - val_loss: 1.6819 - val_accuracy: 0.6453\n",
            "Epoch 98/100\n",
            "109/109 [==============================] - 5s 44ms/step - loss: 0.0790 - accuracy: 0.9742 - val_loss: 1.6992 - val_accuracy: 0.6447\n",
            "Epoch 99/100\n",
            "109/109 [==============================] - 5s 44ms/step - loss: 0.0813 - accuracy: 0.9727 - val_loss: 1.6848 - val_accuracy: 0.6431\n",
            "Epoch 100/100\n",
            "109/109 [==============================] - 5s 44ms/step - loss: 0.0829 - accuracy: 0.9735 - val_loss: 1.6960 - val_accuracy: 0.6470\n"
          ],
          "name": "stdout"
        }
      ]
    },
    {
      "cell_type": "code",
      "metadata": {
        "colab": {
          "base_uri": "https://localhost:8080/",
          "height": 573
        },
        "id": "B08HMumDQvyM",
        "outputId": "2ebef778-c502-47ca-a78f-1f17466a6ecf"
      },
      "source": [
        "plt.plot(history2.history['loss'])\n",
        "plt.plot(history2.history['val_loss'])\n",
        "plt.title('model loss')\n",
        "plt.ylabel('loss')\n",
        "plt.xlabel('epoch')\n",
        "plt.legend(['train', 'test'], loc='upper left')\n",
        "plt.show()\n",
        "\n",
        "plt.plot(history2.history['accuracy'])\n",
        "plt.plot(history2.history['val_accuracy'])\n",
        "plt.title('model accuracy')\n",
        "plt.ylabel('loss')\n",
        "plt.xlabel('epoch')\n",
        "plt.legend(['train', 'test'], loc='upper left')\n",
        "plt.show()"
      ],
      "execution_count": 24,
      "outputs": [
        {
          "output_type": "display_data",
          "data": {
            "image/png": "[encoded data removed]",
            "text/plain": [
              "<Figure size 432x288 with 1 Axes>"
            ]
          },
          "metadata": {
            "tags": [],
            "needs_background": "light"
          }
        },
        {
          "output_type": "display_data",
          "data": {
            "image/png": "[encoded data removed]",
            "text/plain": [
              "<Figure size 432x288 with 1 Axes>"
            ]
          },
          "metadata": {
            "tags": [],
            "needs_background": "light"
          }
        }
      ]
    },
    {
      "cell_type": "code",
      "metadata": {
        "colab": {
          "base_uri": "https://localhost:8080/"
        },
        "id": "-pUOkRQFRmPS",
        "outputId": "196a74a5-b3f2-4aa5-f479-4aef3f090696"
      },
      "source": [
        "model2.evaluate(x_test, test_labels)"
      ],
      "execution_count": 25,
      "outputs": [
        {
          "output_type": "stream",
          "text": [
            "113/113 [==============================] - 0s 4ms/step - loss: 1.8502 - accuracy: 0.6336\n"
          ],
          "name": "stdout"
        },
        {
          "output_type": "execute_result",
          "data": {
            "text/plain": [
              "[1.850225567817688, 0.6336026787757874]"
            ]
          },
          "metadata": {
            "tags": []
          },
          "execution_count": 25
        }
      ]
    },
    {
      "cell_type": "code",
      "metadata": {
        "id": "7hw2HZnsTNSr",
        "colab": {
          "base_uri": "https://localhost:8080/"
        },
        "outputId": "36c95da0-872d-45c6-84e7-c0fb1296fe1b"
      },
      "source": [
        "from google.colab import drive\n",
        "drive.mount('/content/gdrive')"
      ],
      "execution_count": 26,
      "outputs": [
        {
          "output_type": "stream",
          "text": [
            "Mounted at /content/gdrive\n"
          ],
          "name": "stdout"
        }
      ]
    },
    {
      "cell_type": "code",
      "metadata": {
        "id": "7ITSlpp3hLbk"
      },
      "source": [
        "model2.save('/content/gdrive/MyDrive/model_cnn.h5')"
      ],
      "execution_count": 27,
      "outputs": []
    },
    {
      "cell_type": "code",
      "metadata": {
        "id": "QHq0Bxtki5mo"
      },
      "source": [
        ""
      ],
      "execution_count": null,
      "outputs": []
    }
  ]
}